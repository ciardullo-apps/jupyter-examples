{
 "cells": [
  {
   "cell_type": "markdown",
   "metadata": {},
   "source": [
    "# Google Places API\n",
    "----\n",
    "\n",
    "Geocoding requires billing\n",
    "https://developers.google.com/maps/documentation/geocoding/usage-and-billing\n",
    "Keep an eye on your API usage. Use https://developers.google.com/maps/reporting/gmp-reporting as reference for how to monitor your usage and billing.\n",
    "\n"
   ]
  },
  {
   "cell_type": "code",
   "execution_count": 1,
   "metadata": {},
   "outputs": [],
   "source": [
    "# Dependencies and Setup\n",
    "import matplotlib.pyplot as plt\n",
    "import pandas as pd\n",
    "import numpy as np\n",
    "import requests\n",
    "import gmaps\n",
    "import os\n",
    "\n",
    "# Import API key\n",
    "from api_keys import g_key"
   ]
  },
  {
   "cell_type": "markdown",
   "metadata": {},
   "source": [
    "### Store Part I results into DataFrame\n",
    "* Load the csv exported in Part I to a DataFrame"
   ]
  },
  {
   "cell_type": "code",
   "execution_count": 2,
   "metadata": {},
   "outputs": [
    {
     "output_type": "execute_result",
     "data": {
      "text/plain": [
       "     City ID          City  Cloudiness Country        Date  Humidity    Lat  \\\n",
       "0          1       dunedin         100      NZ  1603573340        56 -45.87   \n",
       "1          2     sinnamary          41      GF  1603573340        74   5.38   \n",
       "2          3  puerto ayora          40      EC  1603573340        73  -0.74   \n",
       "3          4      hermanus           6      ZA  1603573340        91 -34.42   \n",
       "4          5     busselton          71      AU  1603573341        50 -33.65   \n",
       "..       ...           ...         ...     ...         ...       ...    ...   \n",
       "551      599  iracemapolis          75      BR  1603573259        61 -22.58   \n",
       "552      601     chunhuhub          79      MX  1603573402        88  19.55   \n",
       "553      602   yerbogachen         100      RU  1603573402        97  61.28   \n",
       "554      603       rawlins          90      US  1603573402        42  41.79   \n",
       "555      604       tonstad         100      NO  1603573402        95  58.66   \n",
       "\n",
       "        Lng  Max Temp  Wind Speed  \n",
       "0    170.50     64.65       11.10  \n",
       "1    -52.95     83.17       12.57  \n",
       "2    -90.35     77.00       14.99  \n",
       "3     19.23     62.01        4.00  \n",
       "4    115.33     57.00       10.00  \n",
       "..      ...       ...         ...  \n",
       "551  -47.52     78.80        3.36  \n",
       "552  -88.68     84.38        3.85  \n",
       "553  108.01     23.97        3.13  \n",
       "554 -107.24     46.40       23.04  \n",
       "555    6.72     52.00        1.99  \n",
       "\n",
       "[556 rows x 10 columns]"
      ],
      "text/html": "<div>\n<style scoped>\n    .dataframe tbody tr th:only-of-type {\n        vertical-align: middle;\n    }\n\n    .dataframe tbody tr th {\n        vertical-align: top;\n    }\n\n    .dataframe thead th {\n        text-align: right;\n    }\n</style>\n<table border=\"1\" class=\"dataframe\">\n  <thead>\n    <tr style=\"text-align: right;\">\n      <th></th>\n      <th>City ID</th>\n      <th>City</th>\n      <th>Cloudiness</th>\n      <th>Country</th>\n      <th>Date</th>\n      <th>Humidity</th>\n      <th>Lat</th>\n      <th>Lng</th>\n      <th>Max Temp</th>\n      <th>Wind Speed</th>\n    </tr>\n  </thead>\n  <tbody>\n    <tr>\n      <th>0</th>\n      <td>1</td>\n      <td>dunedin</td>\n      <td>100</td>\n      <td>NZ</td>\n      <td>1603573340</td>\n      <td>56</td>\n      <td>-45.87</td>\n      <td>170.50</td>\n      <td>64.65</td>\n      <td>11.10</td>\n    </tr>\n    <tr>\n      <th>1</th>\n      <td>2</td>\n      <td>sinnamary</td>\n      <td>41</td>\n      <td>GF</td>\n      <td>1603573340</td>\n      <td>74</td>\n      <td>5.38</td>\n      <td>-52.95</td>\n      <td>83.17</td>\n      <td>12.57</td>\n    </tr>\n    <tr>\n      <th>2</th>\n      <td>3</td>\n      <td>puerto ayora</td>\n      <td>40</td>\n      <td>EC</td>\n      <td>1603573340</td>\n      <td>73</td>\n      <td>-0.74</td>\n      <td>-90.35</td>\n      <td>77.00</td>\n      <td>14.99</td>\n    </tr>\n    <tr>\n      <th>3</th>\n      <td>4</td>\n      <td>hermanus</td>\n      <td>6</td>\n      <td>ZA</td>\n      <td>1603573340</td>\n      <td>91</td>\n      <td>-34.42</td>\n      <td>19.23</td>\n      <td>62.01</td>\n      <td>4.00</td>\n    </tr>\n    <tr>\n      <th>4</th>\n      <td>5</td>\n      <td>busselton</td>\n      <td>71</td>\n      <td>AU</td>\n      <td>1603573341</td>\n      <td>50</td>\n      <td>-33.65</td>\n      <td>115.33</td>\n      <td>57.00</td>\n      <td>10.00</td>\n    </tr>\n    <tr>\n      <th>...</th>\n      <td>...</td>\n      <td>...</td>\n      <td>...</td>\n      <td>...</td>\n      <td>...</td>\n      <td>...</td>\n      <td>...</td>\n      <td>...</td>\n      <td>...</td>\n      <td>...</td>\n    </tr>\n    <tr>\n      <th>551</th>\n      <td>599</td>\n      <td>iracemapolis</td>\n      <td>75</td>\n      <td>BR</td>\n      <td>1603573259</td>\n      <td>61</td>\n      <td>-22.58</td>\n      <td>-47.52</td>\n      <td>78.80</td>\n      <td>3.36</td>\n    </tr>\n    <tr>\n      <th>552</th>\n      <td>601</td>\n      <td>chunhuhub</td>\n      <td>79</td>\n      <td>MX</td>\n      <td>1603573402</td>\n      <td>88</td>\n      <td>19.55</td>\n      <td>-88.68</td>\n      <td>84.38</td>\n      <td>3.85</td>\n    </tr>\n    <tr>\n      <th>553</th>\n      <td>602</td>\n      <td>yerbogachen</td>\n      <td>100</td>\n      <td>RU</td>\n      <td>1603573402</td>\n      <td>97</td>\n      <td>61.28</td>\n      <td>108.01</td>\n      <td>23.97</td>\n      <td>3.13</td>\n    </tr>\n    <tr>\n      <th>554</th>\n      <td>603</td>\n      <td>rawlins</td>\n      <td>90</td>\n      <td>US</td>\n      <td>1603573402</td>\n      <td>42</td>\n      <td>41.79</td>\n      <td>-107.24</td>\n      <td>46.40</td>\n      <td>23.04</td>\n    </tr>\n    <tr>\n      <th>555</th>\n      <td>604</td>\n      <td>tonstad</td>\n      <td>100</td>\n      <td>NO</td>\n      <td>1603573402</td>\n      <td>95</td>\n      <td>58.66</td>\n      <td>6.72</td>\n      <td>52.00</td>\n      <td>1.99</td>\n    </tr>\n  </tbody>\n</table>\n<p>556 rows × 10 columns</p>\n</div>"
     },
     "metadata": {},
     "execution_count": 2
    }
   ],
   "source": [
    "df = pd.read_csv('../openweather/cities.csv')\n",
    "df\n",
    "\n"
   ]
  },
  {
   "cell_type": "markdown",
   "metadata": {},
   "source": [
    "### Humidity Heatmap\n",
    "* Configure gmaps.\n",
    "* Use the Lat and Lng as locations and Humidity as the weight.\n",
    "* Add Heatmap layer to map."
   ]
  },
  {
   "cell_type": "code",
   "execution_count": 3,
   "metadata": {},
   "outputs": [
    {
     "output_type": "display_data",
     "data": {
      "text/plain": "Figure(layout=FigureLayout(height='420px'))",
      "application/vnd.jupyter.widget-view+json": {
       "version_major": 2,
       "version_minor": 0,
       "model_id": "1be350e72240499e82b9c95975c6fec5"
      }
     },
     "metadata": {}
    }
   ],
   "source": [
    "# Needed to ENABLE Geocoding API for heatmaps\n",
    "# See https://stackoverflow.com/questions/32994634/this-api-project-is-not-authorized-to-use-this-api-please-ensure-that-this-api\n",
    "gmaps.configure(api_key=g_key) \n",
    "locations = df[['Lat', 'Lng']]\n",
    "weights = df['Humidity']\n",
    "fig = gmaps.figure()\n",
    "fig.add_layer(gmaps.heatmap_layer(locations, weights=weights))\n",
    "fig"
   ]
  },
  {
   "source": [
    "<img src=\"fig-1.png\" />"
   ],
   "cell_type": "markdown",
   "metadata": {}
  },
  {
   "cell_type": "markdown",
   "metadata": {},
   "source": [
    "### Create new DataFrame fitting weather criteria\n",
    "Narrow down the cities to fit weather conditions."
   ]
  },
  {
   "cell_type": "code",
   "execution_count": 4,
   "metadata": {},
   "outputs": [],
   "source": [
    "ideal = df[(df['Max Temp'] > 70) & (df['Max Temp'] < 72)]\n"
   ]
  },
  {
   "cell_type": "markdown",
   "metadata": {},
   "source": [
    "### Hotel Map"
   ]
  },
  {
   "cell_type": "code",
   "execution_count": 5,
   "metadata": {},
   "outputs": [
    {
     "output_type": "execute_result",
     "data": {
      "text/plain": [
       "    City ID Hotel Name                   City  Cloudiness Country        Date  \\\n",
       "0         7       None         saint-philippe           0      RE  1603573197   \n",
       "1         8       None                  mweka          43      CD  1603573341   \n",
       "2        18       None                mataura          93      NZ  1603573342   \n",
       "3        43       None        arraial do cabo          90      BR  1603573205   \n",
       "4        53       None                  kindu         100      CD  1603573345   \n",
       "5        97       None               yangambi          65      CD  1603573349   \n",
       "6       132       None                  bluff          85      NZ  1603573216   \n",
       "7       136       None               masumbwe           0      TZ  1603573353   \n",
       "8       155       None              rangapara          91      IN  1603573354   \n",
       "9       219       None  santa maria do suacui         100      BR  1603573361   \n",
       "10      254       None           richards bay           0      ZA  1603573365   \n",
       "11      283       None             alexandria          20      EG  1603573368   \n",
       "12      318       None                   jind           0      IN  1603573371   \n",
       "13      348       None             nouadhibou         100      MR  1603573375   \n",
       "14      353       None                  telde          40      ES  1603573376   \n",
       "15      371       None                kampene          36      CD  1603573377   \n",
       "16      427       None              sita road           0      PK  1603573384   \n",
       "17      465       None              tuatapere          96      NZ  1603573388   \n",
       "18      499       None            nosy varika          27      MG  1603573391   \n",
       "19      534       None                   naze          75      JP  1603573290   \n",
       "20      582       None                  otane           0      NZ  1603573400   \n",
       "21      595       None                yeppoon          90      AU  1603573401   \n",
       "\n",
       "    Humidity    Lat     Lng  Max Temp  Wind Speed  \n",
       "0         64 -21.36   55.77     71.60        5.82  \n",
       "1         96  -4.85   21.57     70.59        0.67  \n",
       "2         58 -46.19  168.86     71.01       15.99  \n",
       "3         94 -22.97  -42.03     71.60       14.99  \n",
       "4         95  -2.95   25.95     71.82        2.24  \n",
       "5         95   0.81   24.43     71.69        1.66  \n",
       "6         58 -46.60  168.33     71.01       15.99  \n",
       "7         69  -3.63   32.18     70.95        3.33  \n",
       "8         95  26.82   92.65     70.93        6.08  \n",
       "9         88 -18.19  -42.41     70.72        1.63  \n",
       "10        81 -28.78   32.04     70.79       14.14  \n",
       "11        64  31.22   29.96     71.60        2.24  \n",
       "12        22  29.32   76.32     71.44        3.13  \n",
       "13        73  20.93  -17.03     71.60       16.11  \n",
       "14        64  27.99  -15.42     71.60       17.22  \n",
       "15        93  -3.60   26.67     70.72        1.48  \n",
       "16        21  27.03   67.85     70.16        3.20  \n",
       "17        58 -46.13  167.68     71.01       15.99  \n",
       "18        80 -20.58   48.53     70.20        0.92  \n",
       "19        60  28.37  129.48     71.60       13.87  \n",
       "20        62 -39.88  176.63     70.02        1.72  \n",
       "21        94 -23.13  150.73     71.60        3.36  "
      ],
      "text/html": "<div>\n<style scoped>\n    .dataframe tbody tr th:only-of-type {\n        vertical-align: middle;\n    }\n\n    .dataframe tbody tr th {\n        vertical-align: top;\n    }\n\n    .dataframe thead th {\n        text-align: right;\n    }\n</style>\n<table border=\"1\" class=\"dataframe\">\n  <thead>\n    <tr style=\"text-align: right;\">\n      <th></th>\n      <th>City ID</th>\n      <th>Hotel Name</th>\n      <th>City</th>\n      <th>Cloudiness</th>\n      <th>Country</th>\n      <th>Date</th>\n      <th>Humidity</th>\n      <th>Lat</th>\n      <th>Lng</th>\n      <th>Max Temp</th>\n      <th>Wind Speed</th>\n    </tr>\n  </thead>\n  <tbody>\n    <tr>\n      <th>0</th>\n      <td>7</td>\n      <td>None</td>\n      <td>saint-philippe</td>\n      <td>0</td>\n      <td>RE</td>\n      <td>1603573197</td>\n      <td>64</td>\n      <td>-21.36</td>\n      <td>55.77</td>\n      <td>71.60</td>\n      <td>5.82</td>\n    </tr>\n    <tr>\n      <th>1</th>\n      <td>8</td>\n      <td>None</td>\n      <td>mweka</td>\n      <td>43</td>\n      <td>CD</td>\n      <td>1603573341</td>\n      <td>96</td>\n      <td>-4.85</td>\n      <td>21.57</td>\n      <td>70.59</td>\n      <td>0.67</td>\n    </tr>\n    <tr>\n      <th>2</th>\n      <td>18</td>\n      <td>None</td>\n      <td>mataura</td>\n      <td>93</td>\n      <td>NZ</td>\n      <td>1603573342</td>\n      <td>58</td>\n      <td>-46.19</td>\n      <td>168.86</td>\n      <td>71.01</td>\n      <td>15.99</td>\n    </tr>\n    <tr>\n      <th>3</th>\n      <td>43</td>\n      <td>None</td>\n      <td>arraial do cabo</td>\n      <td>90</td>\n      <td>BR</td>\n      <td>1603573205</td>\n      <td>94</td>\n      <td>-22.97</td>\n      <td>-42.03</td>\n      <td>71.60</td>\n      <td>14.99</td>\n    </tr>\n    <tr>\n      <th>4</th>\n      <td>53</td>\n      <td>None</td>\n      <td>kindu</td>\n      <td>100</td>\n      <td>CD</td>\n      <td>1603573345</td>\n      <td>95</td>\n      <td>-2.95</td>\n      <td>25.95</td>\n      <td>71.82</td>\n      <td>2.24</td>\n    </tr>\n    <tr>\n      <th>5</th>\n      <td>97</td>\n      <td>None</td>\n      <td>yangambi</td>\n      <td>65</td>\n      <td>CD</td>\n      <td>1603573349</td>\n      <td>95</td>\n      <td>0.81</td>\n      <td>24.43</td>\n      <td>71.69</td>\n      <td>1.66</td>\n    </tr>\n    <tr>\n      <th>6</th>\n      <td>132</td>\n      <td>None</td>\n      <td>bluff</td>\n      <td>85</td>\n      <td>NZ</td>\n      <td>1603573216</td>\n      <td>58</td>\n      <td>-46.60</td>\n      <td>168.33</td>\n      <td>71.01</td>\n      <td>15.99</td>\n    </tr>\n    <tr>\n      <th>7</th>\n      <td>136</td>\n      <td>None</td>\n      <td>masumbwe</td>\n      <td>0</td>\n      <td>TZ</td>\n      <td>1603573353</td>\n      <td>69</td>\n      <td>-3.63</td>\n      <td>32.18</td>\n      <td>70.95</td>\n      <td>3.33</td>\n    </tr>\n    <tr>\n      <th>8</th>\n      <td>155</td>\n      <td>None</td>\n      <td>rangapara</td>\n      <td>91</td>\n      <td>IN</td>\n      <td>1603573354</td>\n      <td>95</td>\n      <td>26.82</td>\n      <td>92.65</td>\n      <td>70.93</td>\n      <td>6.08</td>\n    </tr>\n    <tr>\n      <th>9</th>\n      <td>219</td>\n      <td>None</td>\n      <td>santa maria do suacui</td>\n      <td>100</td>\n      <td>BR</td>\n      <td>1603573361</td>\n      <td>88</td>\n      <td>-18.19</td>\n      <td>-42.41</td>\n      <td>70.72</td>\n      <td>1.63</td>\n    </tr>\n    <tr>\n      <th>10</th>\n      <td>254</td>\n      <td>None</td>\n      <td>richards bay</td>\n      <td>0</td>\n      <td>ZA</td>\n      <td>1603573365</td>\n      <td>81</td>\n      <td>-28.78</td>\n      <td>32.04</td>\n      <td>70.79</td>\n      <td>14.14</td>\n    </tr>\n    <tr>\n      <th>11</th>\n      <td>283</td>\n      <td>None</td>\n      <td>alexandria</td>\n      <td>20</td>\n      <td>EG</td>\n      <td>1603573368</td>\n      <td>64</td>\n      <td>31.22</td>\n      <td>29.96</td>\n      <td>71.60</td>\n      <td>2.24</td>\n    </tr>\n    <tr>\n      <th>12</th>\n      <td>318</td>\n      <td>None</td>\n      <td>jind</td>\n      <td>0</td>\n      <td>IN</td>\n      <td>1603573371</td>\n      <td>22</td>\n      <td>29.32</td>\n      <td>76.32</td>\n      <td>71.44</td>\n      <td>3.13</td>\n    </tr>\n    <tr>\n      <th>13</th>\n      <td>348</td>\n      <td>None</td>\n      <td>nouadhibou</td>\n      <td>100</td>\n      <td>MR</td>\n      <td>1603573375</td>\n      <td>73</td>\n      <td>20.93</td>\n      <td>-17.03</td>\n      <td>71.60</td>\n      <td>16.11</td>\n    </tr>\n    <tr>\n      <th>14</th>\n      <td>353</td>\n      <td>None</td>\n      <td>telde</td>\n      <td>40</td>\n      <td>ES</td>\n      <td>1603573376</td>\n      <td>64</td>\n      <td>27.99</td>\n      <td>-15.42</td>\n      <td>71.60</td>\n      <td>17.22</td>\n    </tr>\n    <tr>\n      <th>15</th>\n      <td>371</td>\n      <td>None</td>\n      <td>kampene</td>\n      <td>36</td>\n      <td>CD</td>\n      <td>1603573377</td>\n      <td>93</td>\n      <td>-3.60</td>\n      <td>26.67</td>\n      <td>70.72</td>\n      <td>1.48</td>\n    </tr>\n    <tr>\n      <th>16</th>\n      <td>427</td>\n      <td>None</td>\n      <td>sita road</td>\n      <td>0</td>\n      <td>PK</td>\n      <td>1603573384</td>\n      <td>21</td>\n      <td>27.03</td>\n      <td>67.85</td>\n      <td>70.16</td>\n      <td>3.20</td>\n    </tr>\n    <tr>\n      <th>17</th>\n      <td>465</td>\n      <td>None</td>\n      <td>tuatapere</td>\n      <td>96</td>\n      <td>NZ</td>\n      <td>1603573388</td>\n      <td>58</td>\n      <td>-46.13</td>\n      <td>167.68</td>\n      <td>71.01</td>\n      <td>15.99</td>\n    </tr>\n    <tr>\n      <th>18</th>\n      <td>499</td>\n      <td>None</td>\n      <td>nosy varika</td>\n      <td>27</td>\n      <td>MG</td>\n      <td>1603573391</td>\n      <td>80</td>\n      <td>-20.58</td>\n      <td>48.53</td>\n      <td>70.20</td>\n      <td>0.92</td>\n    </tr>\n    <tr>\n      <th>19</th>\n      <td>534</td>\n      <td>None</td>\n      <td>naze</td>\n      <td>75</td>\n      <td>JP</td>\n      <td>1603573290</td>\n      <td>60</td>\n      <td>28.37</td>\n      <td>129.48</td>\n      <td>71.60</td>\n      <td>13.87</td>\n    </tr>\n    <tr>\n      <th>20</th>\n      <td>582</td>\n      <td>None</td>\n      <td>otane</td>\n      <td>0</td>\n      <td>NZ</td>\n      <td>1603573400</td>\n      <td>62</td>\n      <td>-39.88</td>\n      <td>176.63</td>\n      <td>70.02</td>\n      <td>1.72</td>\n    </tr>\n    <tr>\n      <th>21</th>\n      <td>595</td>\n      <td>None</td>\n      <td>yeppoon</td>\n      <td>90</td>\n      <td>AU</td>\n      <td>1603573401</td>\n      <td>94</td>\n      <td>-23.13</td>\n      <td>150.73</td>\n      <td>71.60</td>\n      <td>3.36</td>\n    </tr>\n  </tbody>\n</table>\n</div>"
     },
     "metadata": {},
     "execution_count": 5
    }
   ],
   "source": [
    "# Drop any rows will null values.\n",
    "# Restart index numbering, drop prevents old index from being inserted into the dataframe\n",
    "# This is important because the next cell uses DataFrame.at to set the hotel name\n",
    "hotel_df = ideal.dropna().reset_index(drop=True) \n",
    "\n",
    "# Add a \"Hotel Name\" column to the DataFrame.\n",
    "hotel_df.insert(1, \"Hotel Name\", None)\n",
    "hotel_df\n",
    "\n"
   ]
  },
  {
   "cell_type": "code",
   "execution_count": 6,
   "metadata": {
    "tags": []
   },
   "outputs": [
    {
     "output_type": "stream",
     "name": "stdout",
     "text": [
      "Processing Record 0 | saint-philippe -21.36, 55.77\n",
      "Processing Record 1 | mweka -4.85, 21.57\n",
      "Processing Record 2 | mataura -46.19, 168.86\n",
      "Processing Record 3 | arraial do cabo -22.97, -42.03\n",
      "Processing Record 4 | kindu -2.95, 25.95\n",
      "Processing Record 5 | yangambi 0.81, 24.43\n",
      "Processing Record 6 | bluff -46.6, 168.33\n",
      "Processing Record 7 | masumbwe -3.63, 32.18\n",
      "Processing Record 8 | rangapara 26.82, 92.65\n",
      "Processing Record 9 | santa maria do suacui -18.19, -42.41\n",
      "Processing Record 10 | richards bay -28.78, 32.04\n",
      "Processing Record 11 | alexandria 31.22, 29.96\n",
      "Processing Record 12 | jind 29.32, 76.32\n",
      "Processing Record 13 | nouadhibou 20.93, -17.03\n",
      "Processing Record 14 | telde 27.99, -15.42\n",
      "Processing Record 15 | kampene -3.6, 26.67\n",
      "Processing Record 16 | sita road 27.03, 67.85\n",
      "Processing Record 17 | tuatapere -46.13, 167.68\n",
      "Processing Record 18 | nosy varika -20.58, 48.53\n",
      "Processing Record 19 | naze 28.37, 129.48\n",
      "Processing Record 20 | otane -39.88, 176.63\n",
      "Processing Record 21 | yeppoon -23.13, 150.73\n"
     ]
    },
    {
     "output_type": "execute_result",
     "data": {
      "text/plain": [
       "    City ID                                     Hotel Name  \\\n",
       "0         7                   Chambres d'hôte \"La Trinité\"   \n",
       "1         8                        Cathedral of St. Martin   \n",
       "2        18                                  Ellie's Villa   \n",
       "3        43                            Pousada Porto Praia   \n",
       "4        53                                      socearuco   \n",
       "5        97                               Yangambi Reserve   \n",
       "6       132  Bluff Homestead - Guesthouse & Campervan Park   \n",
       "7       136          Seventh Day Adventist Church MASUMBWE   \n",
       "8       155                        State Bank of India ATM   \n",
       "9       219                                     Eletrozema   \n",
       "10      254              BON Hotel Waterfront Richards Bay   \n",
       "11      283                              Royal Crown Hotel   \n",
       "12      318                                  Bank of India   \n",
       "13      348                                      El Medina   \n",
       "14      353           Hotel Rural Cortijo San Ignacio Golf   \n",
       "15      371                     Atelier Japan CHEZ SALOMON   \n",
       "16      427                                    Amir Clinic   \n",
       "17      465                             Tuatapere Cemetery   \n",
       "18      499                                 Hotel Volazara   \n",
       "19      534                          奄美市社会福祉協議会 ふれあい相談センター   \n",
       "20      582                                   Otane School   \n",
       "21      595                               Villa Mar Colina   \n",
       "\n",
       "                     City  Cloudiness Country        Date  Humidity    Lat  \\\n",
       "0          saint-philippe           0      RE  1603573197        64 -21.36   \n",
       "1                   mweka          43      CD  1603573341        96  -4.85   \n",
       "2                 mataura          93      NZ  1603573342        58 -46.19   \n",
       "3         arraial do cabo          90      BR  1603573205        94 -22.97   \n",
       "4                   kindu         100      CD  1603573345        95  -2.95   \n",
       "5                yangambi          65      CD  1603573349        95   0.81   \n",
       "6                   bluff          85      NZ  1603573216        58 -46.60   \n",
       "7                masumbwe           0      TZ  1603573353        69  -3.63   \n",
       "8               rangapara          91      IN  1603573354        95  26.82   \n",
       "9   santa maria do suacui         100      BR  1603573361        88 -18.19   \n",
       "10           richards bay           0      ZA  1603573365        81 -28.78   \n",
       "11             alexandria          20      EG  1603573368        64  31.22   \n",
       "12                   jind           0      IN  1603573371        22  29.32   \n",
       "13             nouadhibou         100      MR  1603573375        73  20.93   \n",
       "14                  telde          40      ES  1603573376        64  27.99   \n",
       "15                kampene          36      CD  1603573377        93  -3.60   \n",
       "16              sita road           0      PK  1603573384        21  27.03   \n",
       "17              tuatapere          96      NZ  1603573388        58 -46.13   \n",
       "18            nosy varika          27      MG  1603573391        80 -20.58   \n",
       "19                   naze          75      JP  1603573290        60  28.37   \n",
       "20                  otane           0      NZ  1603573400        62 -39.88   \n",
       "21                yeppoon          90      AU  1603573401        94 -23.13   \n",
       "\n",
       "       Lng  Max Temp  Wind Speed  \n",
       "0    55.77     71.60        5.82  \n",
       "1    21.57     70.59        0.67  \n",
       "2   168.86     71.01       15.99  \n",
       "3   -42.03     71.60       14.99  \n",
       "4    25.95     71.82        2.24  \n",
       "5    24.43     71.69        1.66  \n",
       "6   168.33     71.01       15.99  \n",
       "7    32.18     70.95        3.33  \n",
       "8    92.65     70.93        6.08  \n",
       "9   -42.41     70.72        1.63  \n",
       "10   32.04     70.79       14.14  \n",
       "11   29.96     71.60        2.24  \n",
       "12   76.32     71.44        3.13  \n",
       "13  -17.03     71.60       16.11  \n",
       "14  -15.42     71.60       17.22  \n",
       "15   26.67     70.72        1.48  \n",
       "16   67.85     70.16        3.20  \n",
       "17  167.68     71.01       15.99  \n",
       "18   48.53     70.20        0.92  \n",
       "19  129.48     71.60       13.87  \n",
       "20  176.63     70.02        1.72  \n",
       "21  150.73     71.60        3.36  "
      ],
      "text/html": "<div>\n<style scoped>\n    .dataframe tbody tr th:only-of-type {\n        vertical-align: middle;\n    }\n\n    .dataframe tbody tr th {\n        vertical-align: top;\n    }\n\n    .dataframe thead th {\n        text-align: right;\n    }\n</style>\n<table border=\"1\" class=\"dataframe\">\n  <thead>\n    <tr style=\"text-align: right;\">\n      <th></th>\n      <th>City ID</th>\n      <th>Hotel Name</th>\n      <th>City</th>\n      <th>Cloudiness</th>\n      <th>Country</th>\n      <th>Date</th>\n      <th>Humidity</th>\n      <th>Lat</th>\n      <th>Lng</th>\n      <th>Max Temp</th>\n      <th>Wind Speed</th>\n    </tr>\n  </thead>\n  <tbody>\n    <tr>\n      <th>0</th>\n      <td>7</td>\n      <td>Chambres d'hôte \"La Trinité\"</td>\n      <td>saint-philippe</td>\n      <td>0</td>\n      <td>RE</td>\n      <td>1603573197</td>\n      <td>64</td>\n      <td>-21.36</td>\n      <td>55.77</td>\n      <td>71.60</td>\n      <td>5.82</td>\n    </tr>\n    <tr>\n      <th>1</th>\n      <td>8</td>\n      <td>Cathedral of St. Martin</td>\n      <td>mweka</td>\n      <td>43</td>\n      <td>CD</td>\n      <td>1603573341</td>\n      <td>96</td>\n      <td>-4.85</td>\n      <td>21.57</td>\n      <td>70.59</td>\n      <td>0.67</td>\n    </tr>\n    <tr>\n      <th>2</th>\n      <td>18</td>\n      <td>Ellie's Villa</td>\n      <td>mataura</td>\n      <td>93</td>\n      <td>NZ</td>\n      <td>1603573342</td>\n      <td>58</td>\n      <td>-46.19</td>\n      <td>168.86</td>\n      <td>71.01</td>\n      <td>15.99</td>\n    </tr>\n    <tr>\n      <th>3</th>\n      <td>43</td>\n      <td>Pousada Porto Praia</td>\n      <td>arraial do cabo</td>\n      <td>90</td>\n      <td>BR</td>\n      <td>1603573205</td>\n      <td>94</td>\n      <td>-22.97</td>\n      <td>-42.03</td>\n      <td>71.60</td>\n      <td>14.99</td>\n    </tr>\n    <tr>\n      <th>4</th>\n      <td>53</td>\n      <td>socearuco</td>\n      <td>kindu</td>\n      <td>100</td>\n      <td>CD</td>\n      <td>1603573345</td>\n      <td>95</td>\n      <td>-2.95</td>\n      <td>25.95</td>\n      <td>71.82</td>\n      <td>2.24</td>\n    </tr>\n    <tr>\n      <th>5</th>\n      <td>97</td>\n      <td>Yangambi Reserve</td>\n      <td>yangambi</td>\n      <td>65</td>\n      <td>CD</td>\n      <td>1603573349</td>\n      <td>95</td>\n      <td>0.81</td>\n      <td>24.43</td>\n      <td>71.69</td>\n      <td>1.66</td>\n    </tr>\n    <tr>\n      <th>6</th>\n      <td>132</td>\n      <td>Bluff Homestead - Guesthouse &amp; Campervan Park</td>\n      <td>bluff</td>\n      <td>85</td>\n      <td>NZ</td>\n      <td>1603573216</td>\n      <td>58</td>\n      <td>-46.60</td>\n      <td>168.33</td>\n      <td>71.01</td>\n      <td>15.99</td>\n    </tr>\n    <tr>\n      <th>7</th>\n      <td>136</td>\n      <td>Seventh Day Adventist Church MASUMBWE</td>\n      <td>masumbwe</td>\n      <td>0</td>\n      <td>TZ</td>\n      <td>1603573353</td>\n      <td>69</td>\n      <td>-3.63</td>\n      <td>32.18</td>\n      <td>70.95</td>\n      <td>3.33</td>\n    </tr>\n    <tr>\n      <th>8</th>\n      <td>155</td>\n      <td>State Bank of India ATM</td>\n      <td>rangapara</td>\n      <td>91</td>\n      <td>IN</td>\n      <td>1603573354</td>\n      <td>95</td>\n      <td>26.82</td>\n      <td>92.65</td>\n      <td>70.93</td>\n      <td>6.08</td>\n    </tr>\n    <tr>\n      <th>9</th>\n      <td>219</td>\n      <td>Eletrozema</td>\n      <td>santa maria do suacui</td>\n      <td>100</td>\n      <td>BR</td>\n      <td>1603573361</td>\n      <td>88</td>\n      <td>-18.19</td>\n      <td>-42.41</td>\n      <td>70.72</td>\n      <td>1.63</td>\n    </tr>\n    <tr>\n      <th>10</th>\n      <td>254</td>\n      <td>BON Hotel Waterfront Richards Bay</td>\n      <td>richards bay</td>\n      <td>0</td>\n      <td>ZA</td>\n      <td>1603573365</td>\n      <td>81</td>\n      <td>-28.78</td>\n      <td>32.04</td>\n      <td>70.79</td>\n      <td>14.14</td>\n    </tr>\n    <tr>\n      <th>11</th>\n      <td>283</td>\n      <td>Royal Crown Hotel</td>\n      <td>alexandria</td>\n      <td>20</td>\n      <td>EG</td>\n      <td>1603573368</td>\n      <td>64</td>\n      <td>31.22</td>\n      <td>29.96</td>\n      <td>71.60</td>\n      <td>2.24</td>\n    </tr>\n    <tr>\n      <th>12</th>\n      <td>318</td>\n      <td>Bank of India</td>\n      <td>jind</td>\n      <td>0</td>\n      <td>IN</td>\n      <td>1603573371</td>\n      <td>22</td>\n      <td>29.32</td>\n      <td>76.32</td>\n      <td>71.44</td>\n      <td>3.13</td>\n    </tr>\n    <tr>\n      <th>13</th>\n      <td>348</td>\n      <td>El Medina</td>\n      <td>nouadhibou</td>\n      <td>100</td>\n      <td>MR</td>\n      <td>1603573375</td>\n      <td>73</td>\n      <td>20.93</td>\n      <td>-17.03</td>\n      <td>71.60</td>\n      <td>16.11</td>\n    </tr>\n    <tr>\n      <th>14</th>\n      <td>353</td>\n      <td>Hotel Rural Cortijo San Ignacio Golf</td>\n      <td>telde</td>\n      <td>40</td>\n      <td>ES</td>\n      <td>1603573376</td>\n      <td>64</td>\n      <td>27.99</td>\n      <td>-15.42</td>\n      <td>71.60</td>\n      <td>17.22</td>\n    </tr>\n    <tr>\n      <th>15</th>\n      <td>371</td>\n      <td>Atelier Japan CHEZ SALOMON</td>\n      <td>kampene</td>\n      <td>36</td>\n      <td>CD</td>\n      <td>1603573377</td>\n      <td>93</td>\n      <td>-3.60</td>\n      <td>26.67</td>\n      <td>70.72</td>\n      <td>1.48</td>\n    </tr>\n    <tr>\n      <th>16</th>\n      <td>427</td>\n      <td>Amir Clinic</td>\n      <td>sita road</td>\n      <td>0</td>\n      <td>PK</td>\n      <td>1603573384</td>\n      <td>21</td>\n      <td>27.03</td>\n      <td>67.85</td>\n      <td>70.16</td>\n      <td>3.20</td>\n    </tr>\n    <tr>\n      <th>17</th>\n      <td>465</td>\n      <td>Tuatapere Cemetery</td>\n      <td>tuatapere</td>\n      <td>96</td>\n      <td>NZ</td>\n      <td>1603573388</td>\n      <td>58</td>\n      <td>-46.13</td>\n      <td>167.68</td>\n      <td>71.01</td>\n      <td>15.99</td>\n    </tr>\n    <tr>\n      <th>18</th>\n      <td>499</td>\n      <td>Hotel Volazara</td>\n      <td>nosy varika</td>\n      <td>27</td>\n      <td>MG</td>\n      <td>1603573391</td>\n      <td>80</td>\n      <td>-20.58</td>\n      <td>48.53</td>\n      <td>70.20</td>\n      <td>0.92</td>\n    </tr>\n    <tr>\n      <th>19</th>\n      <td>534</td>\n      <td>奄美市社会福祉協議会 ふれあい相談センター</td>\n      <td>naze</td>\n      <td>75</td>\n      <td>JP</td>\n      <td>1603573290</td>\n      <td>60</td>\n      <td>28.37</td>\n      <td>129.48</td>\n      <td>71.60</td>\n      <td>13.87</td>\n    </tr>\n    <tr>\n      <th>20</th>\n      <td>582</td>\n      <td>Otane School</td>\n      <td>otane</td>\n      <td>0</td>\n      <td>NZ</td>\n      <td>1603573400</td>\n      <td>62</td>\n      <td>-39.88</td>\n      <td>176.63</td>\n      <td>70.02</td>\n      <td>1.72</td>\n    </tr>\n    <tr>\n      <th>21</th>\n      <td>595</td>\n      <td>Villa Mar Colina</td>\n      <td>yeppoon</td>\n      <td>90</td>\n      <td>AU</td>\n      <td>1603573401</td>\n      <td>94</td>\n      <td>-23.13</td>\n      <td>150.73</td>\n      <td>71.60</td>\n      <td>3.36</td>\n    </tr>\n  </tbody>\n</table>\n</div>"
     },
     "metadata": {},
     "execution_count": 6
    }
   ],
   "source": [
    "# Call Google Places API to add first Hotel name to each city\n",
    "# See https://developers.google.com/places/web-service/search#nearby-search-and-text-search-responses\n",
    "\n",
    "# index = 0\n",
    "for index in range(0,hotel_df['City'].count()):\n",
    "    city = hotel_df.iloc[index]['City']\n",
    "    lat = hotel_df.iloc[index]['Lat']\n",
    "    lng = hotel_df.iloc[index]['Lng']\n",
    "\n",
    "    print(f'Processing Record {index} | {city} {lat}, {lng}')\n",
    "    url = f'https://maps.googleapis.com/maps/api/place/nearbysearch/json?location={lat},{lng}&radius=5000&type=hotel&key={g_key}'\n",
    "    response = requests.get(url)\n",
    "    if response.status_code == 200:\n",
    "        # response.json() Keys are 'html_attributions', 'next_page_token', 'results', 'status'\n",
    "        # print(response.json().get('results')[0]) # Returns a dict\n",
    "        # response.json().get('results') Keys are 'geometry', 'icon', 'name', 'photos', 'place_id', 'reference', 'scope', 'types', 'vicinity'\n",
    "\n",
    "        # Look at each hotel name. The first name is never what seems like a hotel name, for some reason. \n",
    "        # Suggest using the second hotel and not the first, as the readme says\n",
    "        # for result in response.json().get('results'):\n",
    "        #     print(result.get('name'))\n",
    "        which_hotel = 1 # Readme says use 0\n",
    "\n",
    "        hotel_name = response.json().get('results')[which_hotel].get('name')\n",
    "        hotel_df.at[index, 'Hotel Name'] = hotel_name\n",
    "\n",
    "hotel_df"
   ]
  },
  {
   "cell_type": "code",
   "execution_count": 7,
   "metadata": {},
   "outputs": [],
   "source": [
    "# Using the template add the hotel marks to the heatmap\n",
    "info_box_template = \"\"\"\n",
    "<dl>\n",
    "<dt>Name</dt><dd>{Hotel Name}</dd>\n",
    "<dt>City</dt><dd>{City}</dd>\n",
    "<dt>Country</dt><dd>{Country}</dd>\n",
    "</dl>\n",
    "\"\"\"\n",
    "# Store the DataFrame Row\n",
    "hotel_info = [info_box_template.format(**row) for index, row in hotel_df.iterrows()]\n",
    "locations = hotel_df[[\"Lat\", \"Lng\"]]"
   ]
  },
  {
   "cell_type": "code",
   "execution_count": 8,
   "metadata": {},
   "outputs": [
    {
     "output_type": "display_data",
     "data": {
      "text/plain": "Figure(layout=FigureLayout(height='420px'))",
      "application/vnd.jupyter.widget-view+json": {
       "version_major": 2,
       "version_minor": 0,
       "model_id": "1be350e72240499e82b9c95975c6fec5"
      }
     },
     "metadata": {}
    }
   ],
   "source": [
    "# Add marker layer ontop of heat map\n",
    "marker_layer = gmaps.marker_layer(locations, info_box_content=hotel_info)\n",
    "fig.add_layer(marker_layer)\n",
    "\n",
    "# Display figure\n",
    "fig"
   ]
  },
  {
   "source": [
    "<img src=\"fig-2.png\" />"
   ],
   "cell_type": "markdown",
   "metadata": {}
  }
 ],
 "metadata": {
  "kernelspec": {
   "display_name": "Python 3.8.2 64-bit",
   "language": "python",
   "name": "python38264bit76c9ff863faa4dfb8b399ea071152bd0"
  },
  "language_info": {
   "codemirror_mode": {
    "name": "ipython",
    "version": 3
   },
   "file_extension": ".py",
   "mimetype": "text/x-python",
   "name": "python",
   "nbconvert_exporter": "python",
   "pygments_lexer": "ipython3",
   "version": "3.8.5-final"
  },
  "latex_envs": {
   "LaTeX_envs_menu_present": true,
   "autoclose": false,
   "autocomplete": true,
   "bibliofile": "biblio.bib",
   "cite_by": "apalike",
   "current_citInitial": 1,
   "eqLabelWithNumbers": true,
   "eqNumInitial": 1,
   "hotkeys": {
    "equation": "Ctrl-E",
    "itemize": "Ctrl-I"
   },
   "labels_anchors": false,
   "latex_user_defs": false,
   "report_style_numbering": false,
   "user_envs_cfg": false
  }
 },
 "nbformat": 4,
 "nbformat_minor": 4
}